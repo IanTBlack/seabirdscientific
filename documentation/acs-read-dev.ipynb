{
 "cells": [
  {
   "cell_type": "code",
   "execution_count": 1,
   "id": "initial_id",
   "metadata": {
    "ExecuteTime": {
     "end_time": "2024-12-02T22:23:39.784304Z",
     "start_time": "2024-12-02T22:23:39.387782Z"
    },
    "collapsed": true
   },
   "outputs": [],
   "source": [
    "import os\n",
    "from seabirdscientific.acs import Dev"
   ]
  },
  {
   "cell_type": "markdown",
   "id": "855754be7cc1695c",
   "metadata": {},
   "source": [
    "## Ingest an ACS Device File\n"
   ]
  },
  {
   "cell_type": "code",
   "execution_count": 3,
   "id": "25889138d1fffbb8",
   "metadata": {
    "ExecuteTime": {
     "end_time": "2024-12-02T22:23:39.788194Z",
     "start_time": "2024-12-02T22:23:39.785317Z"
    }
   },
   "outputs": [],
   "source": [
    "dev_filepath = '../tests/resources/test-data/ACS181.DEV'\n",
    "dev = Dev(dev_filepath)"
   ]
  },
  {
   "cell_type": "markdown",
   "id": "e820267cc5ced7a7",
   "metadata": {},
   "source": [
    "## Access and Display Dev File Contents as Python Objects Through Class Attributes "
   ]
  },
  {
   "cell_type": "code",
   "execution_count": null,
   "id": "abdc83974c94550f",
   "metadata": {
    "ExecuteTime": {
     "end_time": "2024-12-02T22:23:39.802560Z",
     "start_time": "2024-12-02T22:23:39.798139Z"
    }
   },
   "outputs": [],
   "source": [
    "print(\"Sensor Type: \", dev.sensor_type)\n",
    "print(\"Serial Number Hexadecimal:\", dev.sn_hexdec)\n",
    "print(\"Serial Number: \", dev.sn)\n",
    "print(\"Dev File Structure Version: \", dev.structure_version)\n",
    "print(\"tcal: \", dev.tcal)\n",
    "print(\"ical\", dev.ical)\n",
    "print(\"Calibration Date: \", dev.cal_date)\n",
    "print(\"Depth Cal 1: \", dev.depth_cal_1)\n",
    "print(\"Depth Cal 2: \", dev.depth_cal_2)\n",
    "print(\"Baud Rate: \", dev.baudrate)\n",
    "print(\"Path Length: \", dev.path_length)\n",
    "print(\"Number of Wavelength Bins: \", dev.num_wavelength)\n",
    "print(\"Number of Temperature Bins: \", dev.num_tbin)\n",
    "print(\"A Wavelengths: \", dev.a_wavelength)\n",
    "print(\"A Offsets: \", dev.a_offset)"
   ]
  },
  {
   "cell_type": "markdown",
   "id": "53b71f21fee478a6",
   "metadata": {},
   "source": [
    "## Access and Display Device File Contents as a Formatted Xarray Dataset"
   ]
  },
  {
   "cell_type": "code",
   "execution_count": 5,
   "id": "3b98f467f1965b28",
   "metadata": {
    "ExecuteTime": {
     "end_time": "2024-12-02T22:23:39.809051Z",
     "start_time": "2024-12-02T22:23:39.803570Z"
    }
   },
   "outputs": [],
   "source": [
    "devds = dev.to_xarray()"
   ]
  },
  {
   "cell_type": "code",
   "execution_count": null,
   "id": "e6e2688aa618c741",
   "metadata": {
    "ExecuteTime": {
     "end_time": "2024-12-02T22:23:39.829740Z",
     "start_time": "2024-12-02T22:23:39.811070Z"
    }
   },
   "outputs": [],
   "source": [
    "devds"
   ]
  },
  {
   "cell_type": "markdown",
   "id": "49d4873a909addde",
   "metadata": {},
   "source": [
    "### Data in the xr.dataset can be accessed as numpy arrays a variety of ways. "
   ]
  },
  {
   "cell_type": "code",
   "execution_count": null,
   "id": "6d8aa22a26d92d0b",
   "metadata": {
    "ExecuteTime": {
     "end_time": "2024-12-02T22:23:39.834157Z",
     "start_time": "2024-12-02T22:23:39.830750Z"
    }
   },
   "outputs": [],
   "source": [
    "devds.a_delta_t.shape"
   ]
  },
  {
   "cell_type": "code",
   "execution_count": null,
   "id": "97d36da8a4409fde",
   "metadata": {
    "ExecuteTime": {
     "end_time": "2024-12-02T22:23:39.837934Z",
     "start_time": "2024-12-02T22:23:39.834157Z"
    }
   },
   "outputs": [],
   "source": [
    "devds.a_delta_t.values"
   ]
  },
  {
   "cell_type": "markdown",
   "id": "a5375db47dc82289",
   "metadata": {},
   "source": [
    "### or"
   ]
  },
  {
   "cell_type": "code",
   "execution_count": null,
   "id": "d5b560217d906ebf",
   "metadata": {
    "ExecuteTime": {
     "end_time": "2024-12-02T22:23:39.841870Z",
     "start_time": "2024-12-02T22:23:39.837934Z"
    }
   },
   "outputs": [],
   "source": [
    "devds.a_delta_t.data"
   ]
  },
  {
   "cell_type": "markdown",
   "id": "b01a1bebc2e1f00",
   "metadata": {},
   "source": [
    "### Selecting by a specific wavelength"
   ]
  },
  {
   "cell_type": "code",
   "execution_count": 10,
   "id": "ce117d0790877467",
   "metadata": {
    "ExecuteTime": {
     "end_time": "2024-12-02T22:23:39.845666Z",
     "start_time": "2024-12-02T22:23:39.841870Z"
    }
   },
   "outputs": [],
   "source": [
    "dev_wvl = devds.sel(c_wavelength = 660, method = 'nearest')"
   ]
  },
  {
   "cell_type": "code",
   "execution_count": null,
   "id": "6fec051dc7abb8a2",
   "metadata": {
    "ExecuteTime": {
     "end_time": "2024-12-02T22:23:39.857014Z",
     "start_time": "2024-12-02T22:23:39.846672Z"
    }
   },
   "outputs": [],
   "source": [
    "dev_wvl"
   ]
  },
  {
   "cell_type": "markdown",
   "id": "a8f4b2a9521892f",
   "metadata": {},
   "source": [
    "## Extra: Use Xarray to Save the Dev File as a netCDF file and Process Data\n",
    "\n",
    "This makes the code/math for calculating the absorption and attenuation coefficients straightforward and easy to understand so long as the appropriate dev file is used on the data. \n",
    "Xarray and Numpy are the most likely to be used when processing ACS data in Python.\n",
    "\n",
    "```\n",
    "save_filepath = \"my_dev_file_as_netcdf.nc\"\n",
    "devds.to_netcdf(save_filepath)\n",
    "\n",
    "\n",
    "signal_counts = \"from sensor\"\n",
    "reference_counts = \"from sensor\"\n",
    "a_uncorrected = (1/devds.path_length) * np.log(signal_counts/reference_counts)\n",
    "a_pg = (devds.a_offset - a_uncorrected) - devds.a_delta_t\n",
    "```"
   ]
  },
  {
   "cell_type": "code",
   "execution_count": null,
   "id": "9562cab947a9a0b4",
   "metadata": {
    "ExecuteTime": {
     "end_time": "2024-12-02T22:23:39.860265Z",
     "start_time": "2024-12-02T22:23:39.858043Z"
    }
   },
   "outputs": [],
   "source": [
    "from seabirdscientific.utils import plot\n",
    "\n",
    "plot()"
   ]
  }
 ],
 "metadata": {
  "kernelspec": {
   "display_name": ".devenv",
   "language": "python",
   "name": "python3"
  },
  "language_info": {
   "codemirror_mode": {
    "name": "ipython",
    "version": 3
   },
   "file_extension": ".py",
   "mimetype": "text/x-python",
   "name": "python",
   "nbconvert_exporter": "python",
   "pygments_lexer": "ipython3",
   "version": "3.11.9"
  }
 },
 "nbformat": 4,
 "nbformat_minor": 5
}
